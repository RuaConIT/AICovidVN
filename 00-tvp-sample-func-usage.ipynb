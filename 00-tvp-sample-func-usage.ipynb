{
 "cells": [
  {
   "cell_type": "code",
   "execution_count": 1,
   "source": [
    "from src.utils import plot_wav, get_path, load_audio_data, display_mfccs, save_data, load_dataset\r\n",
    "from src.features import calculator \r\n",
    "\r\n",
    "from src.preprocess import normalize_audio\r\n",
    "import warnings \r\n",
    "warnings.filterwarnings('ignore')\r\n",
    "import numpy as np"
   ],
   "outputs": [],
   "metadata": {}
  },
  {
   "cell_type": "code",
   "execution_count": 2,
   "source": [
    "from src.utils import plot_wav, get_path, load_audio_data, display_mfccs, save_data, load_dataset\r\n",
    "from src.features import calculator \r\n",
    "\r\n",
    "from src.preprocess import normalize_audio\r\n",
    "import warnings \r\n",
    "warnings.filterwarnings('ignore')\r\n",
    "import numpy as np"
   ],
   "outputs": [],
   "metadata": {}
  },
  {
   "cell_type": "code",
   "execution_count": 3,
   "source": [
    "train_folder_path = get_path('data', 'train_audio_files_8k')\r\n",
    "test_folder_path = get_path('data', 'aicv115m_private_test')"
   ],
   "outputs": [],
   "metadata": {}
  },
  {
   "cell_type": "code",
   "execution_count": 4,
   "source": [
    "%%time\r\n",
    "audio_data_train_list = load_audio_data(train_folder_path)\r\n",
    "audio_data_test_list = load_audio_data(test_folder_path)"
   ],
   "outputs": [
    {
     "output_type": "stream",
     "name": "stdout",
     "text": [
      "Wall time: 6min 35s\n"
     ]
    }
   ],
   "metadata": {}
  },
  {
   "cell_type": "code",
   "execution_count": 5,
   "source": [
    "audio_data_train_list = [normalize_audio(data) for data in audio_data_train_list]\r\n",
    "audio_data_test_list = [normalize_audio(data) for data in audio_data_test_list]"
   ],
   "outputs": [],
   "metadata": {}
  },
  {
   "cell_type": "code",
   "execution_count": 6,
   "source": [
    "plot_wav(audio_data_test_list[2])"
   ],
   "outputs": [
    {
     "output_type": "display_data",
     "data": {
      "text/plain": [
       "<Figure size 432x288 with 1 Axes>"
      ],
      "image/png": "[encoded data removed]"
     },
     "metadata": {
      "needs_background": "light"
     }
    }
   ],
   "metadata": {}
  },
  {
   "cell_type": "code",
   "execution_count": 10,
   "source": [
    "%%time\r\n",
    "audio_data_train_list = calculator(audio_data_train_list)\r\n",
    "audio_data_test_list = calculator(audio_data_test_list)"
   ],
   "outputs": [
    {
     "output_type": "error",
     "ename": "AttributeError",
     "evalue": "module 'librosa.feature' has no attribute 'rmse'",
     "traceback": [
      "\u001b[1;31m---------------------------------------------------------------------------\u001b[0m",
      "\u001b[1;31mAttributeError\u001b[0m                            Traceback (most recent call last)",
      "\u001b[1;32m<timed exec>\u001b[0m in \u001b[0;36m<module>\u001b[1;34m\u001b[0m\n",
      "\u001b[1;32mc:\\Users\\Hieu\\Documents\\AICovidVN\\src\\features.py\u001b[0m in \u001b[0;36mcalculator\u001b[1;34m(data_list, **librosa_mfcc_kwargs)\u001b[0m\n\u001b[0;32m     38\u001b[0m                                                       \u001b[0msr\u001b[0m\u001b[1;33m=\u001b[0m\u001b[0msr\u001b[0m\u001b[1;33m,\u001b[0m\u001b[1;33m\u001b[0m\u001b[1;33m\u001b[0m\u001b[0m\n\u001b[0;32m     39\u001b[0m                                                       **librosa_mfcc_kwargs)\n\u001b[1;32m---> 40\u001b[1;33m         \u001b[1;31m# rmse = librosa.feature.rmse(y=y)\u001b[0m\u001b[1;33m\u001b[0m\u001b[1;33m\u001b[0m\u001b[1;33m\u001b[0m\u001b[0m\n\u001b[0m\u001b[0;32m     41\u001b[0m         spec_bw = librosa.feature.spectral_bandwidth(y=y,\n\u001b[0;32m     42\u001b[0m                                                      \u001b[0msr\u001b[0m\u001b[1;33m=\u001b[0m\u001b[0msr\u001b[0m\u001b[1;33m,\u001b[0m\u001b[1;33m\u001b[0m\u001b[1;33m\u001b[0m\u001b[0m\n",
      "\u001b[1;31mAttributeError\u001b[0m: module 'librosa.feature' has no attribute 'rmse'"
     ]
    }
   ],
   "metadata": {}
  },
  {
   "cell_type": "code",
   "execution_count": null,
   "source": [
    "# %%time\r\n",
    "# #audio_data_train_list = extract_mfccs(audio_data_train_list)\r\n",
    "# audio_data_test_list = extract_mfccs(audio_data_test_list)"
   ],
   "outputs": [],
   "metadata": {}
  },
  {
   "cell_type": "code",
   "execution_count": null,
   "source": [
    "save_data(get_path('data', 'npy', 'audio_data_train.npy'), audio_data_train_list)\r\n",
    "save_data(get_path('data', 'npy', 'audio_data_test.npy'), audio_data_test_list)"
   ],
   "outputs": [],
   "metadata": {}
  }
 ],
 "metadata": {
  "interpreter": {
   "hash": "dac906bad3cd3f28ab8a8be6a98440f394e886bf762d5697629f8e4089794e4b"
  },
  "kernelspec": {
   "name": "python3",
   "display_name": "Python 3.8.0 64-bit ('covid': conda)"
  },
  "language_info": {
   "name": "python",
   "version": "3.8.0",
   "mimetype": "text/x-python",
   "codemirror_mode": {
    "name": "ipython",
    "version": 3
   },
   "pygments_lexer": "ipython3",
   "nbconvert_exporter": "python",
   "file_extension": ".py"
  },
  "orig_nbformat": 4
 },
 "nbformat": 4,
 "nbformat_minor": 2
}