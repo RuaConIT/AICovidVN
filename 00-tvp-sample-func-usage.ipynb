{
 "cells": [
  {
   "cell_type": "code",
   "execution_count": 1,
   "metadata": {},
   "outputs": [],
   "source": [
    "from src.utils import plot_wav, get_path, load_audio_data, display_mfccs, save_data, load_dataset\r\n",
    "from src.features import calculator \r\n",
    "\r\n",
    "from src.preprocess import normalize_audio\r\n",
    "import warnings \r\n",
    "warnings.filterwarnings('ignore')\r\n",
    "import numpy as np"
   ]
  },
  {
   "cell_type": "code",
   "execution_count": 2,
   "metadata": {},
   "outputs": [],
   "source": [
    "train_folder_path = get_path('data', 'train_audio_files_8k')\r\n",
    "test_folder_path = get_path('data', 'aicv115m_private_test')"
   ]
  },
  {
   "cell_type": "code",
   "execution_count": null,
   "metadata": {},
   "outputs": [],
   "source": [
    "%%time\r\n",
    "audio_data_train_list = load_audio_data(train_folder_path)\r\n",
    "audio_data_test_list = load_audio_data(test_folder_path)"
   ]
  },
  {
   "cell_type": "code",
   "execution_count": null,
   "metadata": {},
   "outputs": [],
   "source": [
    "plot_wav(audio_data_test_list[2])"
   ]
  },
  {
   "cell_type": "code",
   "execution_count": null,
   "metadata": {},
   "outputs": [],
   "source": [
    "audio_data_train_list = [normalize_audio(data) for data in audio_data_train_list]\r\n",
    "audio_data_train_list = [normalize_audio(data) for data in audio_data_train_list]"
   ]
  },
  {
   "cell_type": "code",
   "execution_count": null,
   "metadata": {},
   "outputs": [],
   "source": [
    "plot_wav(audio_data_test_list[2])"
   ]
  },
  {
   "cell_type": "code",
   "execution_count": null,
   "metadata": {},
   "outputs": [],
   "source": [
    "%%time\r\n",
    "audio_data_train_list = calculator(audio_data_train_list)\r\n",
    "audio_data_test_list = calculator(audio_data_test_list)"
   ]
  },
  {
   "cell_type": "code",
   "execution_count": null,
   "metadata": {},
   "outputs": [],
   "source": [
    "# %%time\r\n",
    "# #audio_data_train_list = extract_mfccs(audio_data_train_list)\r\n",
    "# audio_data_test_list = extract_mfccs(audio_data_test_list)"
   ]
  },
  {
   "cell_type": "code",
   "execution_count": null,
   "metadata": {},
   "outputs": [],
   "source": [
    "save_data(get_path('data', 'npy', 'audio_data_train.npy'), audio_data_train_list)\r\n",
    "save_data(get_path('data', 'npy', 'audio_data_test.npy'), audio_data_test_list)"
   ]
  },
  {
   "cell_type": "code",
   "execution_count": null,
   "metadata": {},
   "outputs": [],
   "source": [
    "# -------------------------------------------------------------------------------------------------"
   ]
  },
  {
   "cell_type": "code",
   "execution_count": null,
   "metadata": {},
   "outputs": [],
   "source": [
    "import pandas as pd\r\n",
    "data_train = pd.read_csv(get_path('data', 'metadata_train_challenge.csv'))\r\n",
    "# data_test = pd.read_csv(get_path('data', 'metadata_public_test.csv'))"
   ]
  },
  {
   "cell_type": "code",
   "execution_count": null,
   "metadata": {},
   "outputs": [],
   "source": [
    "from src.adapter import adapt_to_dataset"
   ]
  },
  {
   "cell_type": "code",
   "execution_count": null,
   "metadata": {},
   "outputs": [],
   "source": [
    "dataset_train = adapt_to_dataset(data_train, audio_data_train_list)\r\n",
    "# dataset_test = adapt_to_dataset(data_test, audio_data_test_list)"
   ]
  },
  {
   "cell_type": "code",
   "execution_count": null,
   "metadata": {},
   "outputs": [],
   "source": [
    "from src.preprocess import normalize_audio"
   ]
  },
  {
   "cell_type": "code",
   "execution_count": null,
   "metadata": {},
   "outputs": [],
   "source": [
    "plot_wav(dataset_train.samples[3].audio_data)"
   ]
  },
  {
   "cell_type": "code",
   "execution_count": null,
   "metadata": {},
   "outputs": [],
   "source": [
    "sample = normalize_audio(dataset_train.samples[3].audio_data)\r\n",
    "sample"
   ]
  },
  {
   "cell_type": "code",
   "execution_count": null,
   "metadata": {},
   "outputs": [],
   "source": [
    "# from playsound import playsound\r\n",
    "\r\n",
    "# playsound(sample.features.wav)"
   ]
  },
  {
   "cell_type": "code",
   "execution_count": null,
   "metadata": {},
   "outputs": [],
   "source": [
    "plot_wav(sample)"
   ]
  },
  {
   "cell_type": "code",
   "execution_count": null,
   "metadata": {},
   "outputs": [],
   "source": [
    "save_data(get_path('data','npy', 'data_train.npy'), data_train)\r\n",
    "#save_data(get_path('data','npy', 'data_test.npy'), data_test)"
   ]
  },
  {
   "cell_type": "code",
   "execution_count": null,
   "metadata": {},
   "outputs": [],
   "source": [
    "# audio_data_list = load_audio_data(get_path('data', 'npy', 'audio_data.npy'), load_from_npy=True)\n",
    "# dataset = load_dataset(get_path('data', 'npy', 'dataset.npy'))"
   ]
  }
 ],
 "metadata": {
  "interpreter": {
   "hash": "dac906bad3cd3f28ab8a8be6a98440f394e886bf762d5697629f8e4089794e4b"
  },
  "kernelspec": {
   "display_name": "Python 3.8.0 64-bit ('covid': conda)",
   "name": "python3"
  },
  "language_info": {
   "codemirror_mode": {
    "name": "ipython",
    "version": 3
   },
   "file_extension": ".py",
   "mimetype": "text/x-python",
   "name": "python",
   "nbconvert_exporter": "python",
   "pygments_lexer": "ipython3",
   "version": "3.8.0"
  },
  "orig_nbformat": 4
 },
 "nbformat": 4,
 "nbformat_minor": 2
}