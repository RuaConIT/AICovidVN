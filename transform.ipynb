{
 "cells": [
  {
   "cell_type": "code",
   "execution_count": 58,
   "metadata": {},
   "outputs": [],
   "source": [
    "import numpy as np\r\n",
    "import pandas as pd"
   ]
  },
  {
   "cell_type": "code",
   "execution_count": 59,
   "metadata": {},
   "outputs": [],
   "source": [
    "meta_data = pd.read_csv('data\\metadata_train_challenge.csv')"
   ]
  },
  {
   "cell_type": "code",
   "execution_count": 60,
   "metadata": {},
   "outputs": [
    {
     "data": {
      "text/plain": [
       "array([AudioData(name='001ba082-6316-4caa-b94e-df5e1ef7141c.wav', features=AudioFeatures(wav=array(shape=(51597,), dtype=float32), mfccs=array(shape=(20, 3833), dtype=float32)), sampling_rate=22050),\n",
       "       AudioData(name='003321df-a7ce-43b6-b5ef-8588832fcac8.wav', features=AudioFeatures(wav=array(shape=(218295,), dtype=float32), mfccs=array(shape=(20, 3833), dtype=float32)), sampling_rate=22050)],\n",
       "      dtype=object)"
      ]
     },
     "execution_count": 60,
     "metadata": {},
     "output_type": "execute_result"
    }
   ],
   "source": [
    "df = np.load('data/npy/audio_data.npy', allow_pickle=True)\r\n",
    "df[0:2]"
   ]
  },
  {
   "cell_type": "code",
   "execution_count": 61,
   "metadata": {},
   "outputs": [
    {
     "data": {
      "text/plain": [
       "array(['3284bcf1-2446-4f3a-ac66-14c76b294177', 'male', 23.0, 0,\n",
       "       '3284bcf1-2446-4f3a-ac66-14c76b294177.wav'], dtype=object)"
      ]
     },
     "execution_count": 61,
     "metadata": {},
     "output_type": "execute_result"
    }
   ],
   "source": [
    "meta_data.values[0]"
   ]
  },
  {
   "cell_type": "code",
   "execution_count": 62,
   "metadata": {},
   "outputs": [],
   "source": [
    "def transform(audio_data, meta_data):\r\n",
    "    result = []\r\n",
    "    audio_features = dict()\r\n",
    "    # get feature in audio_data\r\n",
    "    for i in range(len(audio_data)):\r\n",
    "        name = audio_data[i].name\r\n",
    "        features = audio_data[i].features.mfccs.reshape(-1)\r\n",
    "        audio_features[name] = features\r\n",
    "    #-----------------------------\r\n",
    "    for item in meta_data.values:\r\n",
    "        tmp = []\r\n",
    "        if item[1]=='male':\r\n",
    "            tmp.append(1)\r\n",
    "        else: tmp.append(0)\r\n",
    "        tmp.append(item[2])\r\n",
    "        tmp.append(item[3])\r\n",
    "        tmp += audio_features[item[4]].tolist()\r\n",
    "        result.append(np.array(tmp, dtype=float))\r\n",
    "    return np.array(result)"
   ]
  },
  {
   "cell_type": "code",
   "execution_count": 63,
   "metadata": {},
   "outputs": [
    {
     "name": "stdout",
     "output_type": "stream",
     "text": [
      "[[ 1. 23.  0. ...  0.  0.  0.]\n",
      " [ 0. nan  0. ...  0.  0.  0.]\n",
      " [ 0. nan  0. ...  0.  0.  0.]\n",
      " ...\n",
      " [ 1. 52.  0. ...  0.  0.  0.]\n",
      " [ 0. 23.  1. ...  0.  0.  0.]\n",
      " [ 0. 40.  1. ...  0.  0.  0.]]\n"
     ]
    }
   ],
   "source": [
    "x = transform(df, meta_data)\r\n",
    "print(x)"
   ]
  },
  {
   "cell_type": "code",
   "execution_count": 66,
   "metadata": {},
   "outputs": [],
   "source": [
    "np.save('data\\data_transform\\meta_data.npy', x)"
   ]
  },
  {
   "cell_type": "code",
   "execution_count": 65,
   "metadata": {},
   "outputs": [
    {
     "data": {
      "text/plain": [
       "array([[ 1., 23.,  0., ...,  0.,  0.,  0.],\n",
       "       [ 0., nan,  0., ...,  0.,  0.,  0.]])"
      ]
     },
     "execution_count": 65,
     "metadata": {},
     "output_type": "execute_result"
    }
   ],
   "source": [
    "meta_transforms = np.load('data\\data_transform\\meta_data.npy', allow_pickle=True)\r\n",
    "meta_transforms[0:2]"
   ]
  }
 ],
 "metadata": {
  "interpreter": {
   "hash": "925e7f7fa314e618637f93aec00d6fe34d4b086f04f932db3caac8030589e238"
  },
  "kernelspec": {
   "display_name": "Python 3.8.10 64-bit ('venv': venv)",
   "name": "python3"
  },
  "language_info": {
   "codemirror_mode": {
    "name": "ipython",
    "version": 3
   },
   "file_extension": ".py",
   "mimetype": "text/x-python",
   "name": "python",
   "nbconvert_exporter": "python",
   "pygments_lexer": "ipython3",
   "version": "3.8.10"
  },
  "orig_nbformat": 4
 },
 "nbformat": 4,
 "nbformat_minor": 2
}