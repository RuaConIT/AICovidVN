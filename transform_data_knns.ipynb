{
 "cells": [
  {
   "cell_type": "code",
   "execution_count": 1,
   "metadata": {},
   "outputs": [],
   "source": [
    "from src.utils import load_dataset, get_path\r\n",
    "from src.adapter import adapt_to_dataset\r\n",
    "import numpy as np\r\n",
    "import pandas as pd\r\n",
    "from sklearn.model_selection import train_test_split, GridSearchCV\r\n",
    "from sklearn.neighbors import KNeighborsClassifier\r\n",
    "from sklearn.metrics import accuracy_score\r\n",
    "from sklearn.metrics import roc_curve\r\n",
    "from sklearn.metrics import auc\r\n",
    "import xgboost as xgb\r\n",
    "import collections\r\n",
    "from sklearn import metrics\r\n",
    "from sklearn.metrics import roc_auc_score\r\n",
    "from sklearn.ensemble import RandomForestClassifier\r\n",
    "from sklearn.model_selection import RandomizedSearchCV\r\n"
   ]
  },
  {
   "cell_type": "code",
   "execution_count": 2,
   "metadata": {},
   "outputs": [],
   "source": [
    "data_train_exaction = load_dataset(get_path('data', 'npy', 'audio_data_train.npy'))\r\n",
    "data_test_exaction = load_dataset(get_path('data', 'npy', 'audio_data_test.npy'))"
   ]
  },
  {
   "cell_type": "code",
   "execution_count": 3,
   "metadata": {},
   "outputs": [],
   "source": [
    "data_train = pd.read_csv('data/metadata_train_challenge.csv')\r\n",
    "data_test = pd.read_csv('data/metadata_private_test.csv')\r\n",
    "data_train = adapt_to_dataset(data_train, data_train_exaction)\r\n",
    "data_test = adapt_to_dataset(data_test, data_test_exaction)"
   ]
  },
  {
   "cell_type": "code",
   "execution_count": 5,
   "metadata": {},
   "outputs": [],
   "source": [
    "def parse_audio(x):\r\n",
    "    return x.flatten('F')[:x.shape[0]] \r\n",
    "    \r\n",
    "X_train = [i.audio_data.features.allfeat for i in data_train.samples]\r\n",
    "X_train = [parse_audio(x) for x in X_train]\r\n",
    "y_train = [i.assessment_result for i in data_train.samples]\r\n",
    "\r\n",
    "X_test = [i.audio_data.features.allfeat for i in data_test.samples]\r\n",
    "X_test = [parse_audio(x) for x in X_test]\r\n",
    "y_test = [i.assessment_result for i in data_test.samples]\r\n"
   ]
  },
  {
   "cell_type": "code",
   "execution_count": 5,
   "metadata": {},
   "outputs": [],
   "source": [
    "# X_train, X_test, y_train, y_test = train_test_split(X_train, y_train, test_size=0.2)"
   ]
  },
  {
   "cell_type": "code",
   "execution_count": 6,
   "metadata": {},
   "outputs": [
    {
     "name": "stdout",
     "output_type": "stream",
     "text": [
      "Before process:  Counter({0: 737, 1: 462})\n",
      "After process:  Counter({0: 737, 1: 737})\n"
     ]
    }
   ],
   "source": [
    "# IMBALANCE DATA PROCESSING \r\n",
    "\r\n",
    "print('Before process: ', collections.Counter(y_train))\r\n",
    "\r\n",
    "from imblearn.over_sampling import SMOTE\r\n",
    "sm = SMOTE(random_state = 2)\r\n",
    "X_train_res, y_train_res = sm.fit_resample(X_train, y_train)\r\n",
    "\r\n",
    "print('After process: ', collections.Counter(y_train_res))\r\n"
   ]
  },
  {
   "cell_type": "code",
   "execution_count": 15,
   "metadata": {},
   "outputs": [
    {
     "data": {
      "text/plain": [
       "GridSearchCV(cv=5, estimator=KNeighborsClassifier(), n_jobs=-1,\n",
       "             param_grid={'metric': ['euclidean', 'manhattan'],\n",
       "                         'n_neighbors': [3, 5, 7, 9, 11, 15, 17, 40],\n",
       "                         'weights': ['uniform', 'distance']})"
      ]
     },
     "execution_count": 15,
     "metadata": {},
     "output_type": "execute_result"
    }
   ],
   "source": [
    "# KNN MODEL\r\n",
    "grid_params = {\r\n",
    "    'n_neighbors': [3, 5, 7, 9, 11, 15, 17, 40],\r\n",
    "    'weights': ['uniform', 'distance'],\r\n",
    "    'metric': ['euclidean', 'manhattan']\r\n",
    "}\r\n",
    "\r\n",
    "model = GridSearchCV(KNeighborsClassifier(), grid_params, cv=5, n_jobs=-1)\r\n",
    "model.fit(X_train_res, y_train_res)"
   ]
  },
  {
   "cell_type": "code",
   "execution_count": 25,
   "metadata": {},
   "outputs": [
    {
     "name": "stdout",
     "output_type": "stream",
     "text": [
      "KNN Model - ROC AUC: 0.5825863386838996\n",
      "KNN Model - Accuracy: 0.5625\n"
     ]
    }
   ],
   "source": [
    "y_predict = model.predict(X_test)\r\n",
    "auc_c = roc_auc_score(y_test,model.predict_proba(X_test)[:, 1])\r\n",
    "print(\"KNN Model - ROC AUC:\",auc_c)\r\n",
    "print(\"KNN Model - Accuracy:\",metrics.accuracy_score(y_test, y_predict))"
   ]
  },
  {
   "cell_type": "code",
   "execution_count": null,
   "metadata": {},
   "outputs": [],
   "source": [
    "# XGBOOSTING\r\n",
    "from xgboost import XGBClassifier\r\n",
    "from sklearn.model_selection import GridSearchCV\r\n",
    "\r\n",
    "X_train_res, y_train_res = np.array(X_train_res), np.array(y_train_res)\r\n",
    "estimator = XGBClassifier(\r\n",
    "    objective= 'binary:logistic',\r\n",
    "    nthread=4,\r\n",
    "    seed=42\r\n",
    ")\r\n",
    "\r\n",
    "estimator = XGBClassifier(\r\n",
    "    objective= 'binary:logistic',\r\n",
    "    nthread=4,\r\n",
    "    seed=42\r\n",
    ")\r\n",
    "\r\n",
    "parameters = {\r\n",
    "    'max_depth': range (2, 10, 1),\r\n",
    "    'n_estimators': range(60, 220, 40),\r\n",
    "    'learning_rate': [0.1, 0.01, 0.05]\r\n",
    "}\r\n",
    "\r\n",
    "grid_search = GridSearchCV(\r\n",
    "    estimator=estimator,\r\n",
    "    param_grid=parameters,\r\n",
    "    scoring = 'roc_auc',\r\n",
    "    n_jobs = 10,\r\n",
    "    cv = 10,\r\n",
    "    verbose=True\r\n",
    ")\r\n",
    "grid_search.fit(X_train_res, y_train_res)\r\n",
    "model = grid_search.best_estimator_"
   ]
  },
  {
   "cell_type": "code",
   "execution_count": null,
   "metadata": {},
   "outputs": [],
   "source": [
    "y_predict = model.predict(X_test)\r\n",
    "auc_c = roc_auc_score(y_test,model.predict_proba(X_test)[:, 1])\r\n",
    "print(\"XGBoosting Model - ROC AUC:\",auc_c)\r\n",
    "print(\"XGBoosting Model - Accuracy:\",metrics.accuracy_score(y_test, y_predict))"
   ]
  },
  {
   "cell_type": "code",
   "execution_count": 7,
   "metadata": {},
   "outputs": [
    {
     "name": "stdout",
     "output_type": "stream",
     "text": [
      "{'n_estimators': [200, 400, 600, 800, 1000, 1200, 1400, 1600, 1800, 2000], 'max_features': ['auto', 'sqrt'], 'max_depth': [10, 20, 30, 40, 50, 60, 70, 80, 90, 100, 110, None], 'min_samples_split': [2, 5, 10], 'min_samples_leaf': [1, 2, 4], 'bootstrap': [True, False]}\n",
      "Fitting 3 folds for each of 100 candidates, totalling 300 fits\n"
     ]
    },
    {
     "data": {
      "text/plain": [
       "RandomizedSearchCV(cv=3, estimator=RandomForestClassifier(), n_iter=100,\n",
       "                   n_jobs=-1,\n",
       "                   param_distributions={'bootstrap': [True, False],\n",
       "                                        'max_depth': [10, 20, 30, 40, 50, 60,\n",
       "                                                      70, 80, 90, 100, 110,\n",
       "                                                      None],\n",
       "                                        'max_features': ['auto', 'sqrt'],\n",
       "                                        'min_samples_leaf': [1, 2, 4],\n",
       "                                        'min_samples_split': [2, 5, 10],\n",
       "                                        'n_estimators': [200, 400, 600, 800,\n",
       "                                                         1000, 1200, 1400, 1600,\n",
       "                                                         1800, 2000]},\n",
       "                   random_state=42, verbose=2)"
      ]
     },
     "execution_count": 7,
     "metadata": {},
     "output_type": "execute_result"
    }
   ],
   "source": [
    "## Random Forest \r\n",
    "\r\n",
    "n_estimators = [int(x) for x in np.linspace(start = 200, stop = 2000, num = 10)]\r\n",
    "max_features = ['auto', 'sqrt']\r\n",
    "max_depth = [int(x) for x in np.linspace(10, 110, num = 11)]\r\n",
    "max_depth.append(None)\r\n",
    "min_samples_split = [2, 5, 10]\r\n",
    "min_samples_leaf = [1, 2, 4]\r\n",
    "bootstrap = [True, False]\r\n",
    "random_grid = {'n_estimators': n_estimators,\r\n",
    "               'max_features': max_features,\r\n",
    "               'max_depth': max_depth,\r\n",
    "               'min_samples_split': min_samples_split,\r\n",
    "               'min_samples_leaf': min_samples_leaf,\r\n",
    "               'bootstrap': bootstrap}\r\n",
    "print(random_grid)\r\n",
    "\r\n",
    "rf = RandomForestClassifier()\r\n",
    "rf_random = RandomizedSearchCV(estimator = rf, param_distributions = random_grid, n_iter = 100, cv = 3, verbose=2, random_state=42, n_jobs = -1)\r\n",
    "rf_random.fit(X_train_res, y_train_res)"
   ]
  },
  {
   "cell_type": "code",
   "execution_count": 8,
   "metadata": {},
   "outputs": [
    {
     "data": {
      "text/plain": [
       "{'n_estimators': 1400,\n",
       " 'min_samples_split': 2,\n",
       " 'min_samples_leaf': 1,\n",
       " 'max_features': 'auto',\n",
       " 'max_depth': 100,\n",
       " 'bootstrap': True}"
      ]
     },
     "execution_count": 8,
     "metadata": {},
     "output_type": "execute_result"
    }
   ],
   "source": [
    "rf_random.best_params_"
   ]
  },
  {
   "cell_type": "code",
   "execution_count": 9,
   "metadata": {},
   "outputs": [
    {
     "data": {
      "text/plain": [
       "RandomForestClassifier(max_depth=100, n_estimators=1400)"
      ]
     },
     "execution_count": 9,
     "metadata": {},
     "output_type": "execute_result"
    }
   ],
   "source": [
    "model = RandomForestClassifier(n_estimators = 1400, min_samples_split = 2, min_samples_leaf = 1, max_features = 'auto', max_depth = 100, bootstrap = True)\r\n",
    "model.fit(X_train_res, y_train_res)"
   ]
  },
  {
   "cell_type": "code",
   "execution_count": 10,
   "metadata": {},
   "outputs": [],
   "source": [
    "y_predict = model.predict(X_test)\r\n",
    "# auc_c = roc_auc_score(y_test,model.predict_proba(X_test)[:, 1])\r\n",
    "# print(\"RandomForest Model - ROC AUC:\",auc_c)\r\n",
    "# print(\"RandomForest Model - Accuracy:\",metrics.accuracy_score(y_test, y_predict))"
   ]
  },
  {
   "cell_type": "code",
   "execution_count": 12,
   "metadata": {},
   "outputs": [],
   "source": [
    "###### --------------------------- WRITE\r\n",
    "###### --------------------------- SUBMIT - FILE\r\n",
    "resutl = pd.read_csv('data/private_test_sample_submissions.csv')\r\n",
    "resutl['assessment_result'] = y_predict\r\n",
    "resutl.to_csv('results.csv', index = False)"
   ]
  }
 ],
 "metadata": {
  "interpreter": {
   "hash": "dac906bad3cd3f28ab8a8be6a98440f394e886bf762d5697629f8e4089794e4b"
  },
  "kernelspec": {
   "display_name": "Python 3.8.0 64-bit ('covid': conda)",
   "name": "python3"
  },
  "language_info": {
   "codemirror_mode": {
    "name": "ipython",
    "version": 3
   },
   "file_extension": ".py",
   "mimetype": "text/x-python",
   "name": "python",
   "nbconvert_exporter": "python",
   "pygments_lexer": "ipython3",
   "version": "3.8.0"
  },
  "orig_nbformat": 4
 },
 "nbformat": 4,
 "nbformat_minor": 2
}