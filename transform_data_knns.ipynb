{
 "cells": [
  {
   "cell_type": "code",
   "execution_count": 232,
   "metadata": {},
   "outputs": [],
   "source": [
    "from src.utils import load_dataset, get_path\r\n",
    "from src.adapter import adapt_to_dataset\r\n",
    "import numpy as np\r\n",
    "import pandas as pd\r\n",
    "from sklearn.model_selection import train_test_split, GridSearchCV\r\n",
    "from sklearn.neighbors import KNeighborsClassifier\r\n",
    "from sklearn.preprocessing import StandardScaler\r\n",
    "from sklearn.decomposition import PCA\r\n",
    "import matplotlib.pyplot as plt\r\n",
    "from sklearn.metrics import accuracy_score\r\n",
    "from sklearn.metrics import roc_curve\r\n",
    "from sklearn.metrics import auc"
   ]
  },
  {
   "cell_type": "code",
   "execution_count": 233,
   "metadata": {},
   "outputs": [],
   "source": [
    "data_train_exaction = load_dataset(get_path('data', 'npy', 'audio_data_train.npy'))\r\n",
    "data_test_exaction = load_dataset(get_path('data', 'npy', 'audio_data_test.npy'))"
   ]
  },
  {
   "cell_type": "code",
   "execution_count": 234,
   "metadata": {},
   "outputs": [],
   "source": [
    "data_train = pd.read_csv('data/metadata_train_challenge.csv')\r\n",
    "data_test = pd.read_csv('data/metadata_public_test.csv')\r\n",
    "data_train = adapt_to_dataset(data_train, data_train_exaction)\r\n",
    "data_test = adapt_to_dataset(data_test, data_test_exaction)"
   ]
  },
  {
   "cell_type": "code",
   "execution_count": 235,
   "metadata": {},
   "outputs": [],
   "source": [
    "def parse_audio(x):\r\n",
    "    return x.flatten('F')[:x.shape[0]] "
   ]
  },
  {
   "cell_type": "code",
   "execution_count": 236,
   "metadata": {},
   "outputs": [],
   "source": [
    "X_train = [i.audio_data.features.mfccs for i in data_train.samples]\r\n",
    "X_train = [parse_audio(x) for x in X_train]\r\n",
    "y_train = [i.assessment_result for i in data_train.samples]\r\n",
    "\r\n",
    "X_test = [i.audio_data.features.mfccs for i in data_test.samples]\r\n",
    "X_test = [parse_audio(x) for x in X_test]\r\n",
    "y_test = [i.assessment_result for i in data_test.samples]\r\n"
   ]
  },
  {
   "cell_type": "code",
   "execution_count": 237,
   "metadata": {},
   "outputs": [],
   "source": [
    "#X_train, x_test, Y_train, y_test =  train_test_split(X, Y, test_size=0.2)"
   ]
  },
  {
   "cell_type": "code",
   "execution_count": 243,
   "metadata": {},
   "outputs": [],
   "source": [
    "# scaler = StandardScaler()\r\n",
    "# scaler.fit(X_train)\r\n",
    "# x_train_scaled = scaler.transform(X_train)\r\n",
    "# x_test_scaled = scaler.transform(X_test)\r\n",
    "\r\n",
    "# pca = PCA().fit(x_train_scaled)\r\n",
    "\r\n",
    "# plt.plot(np.cumsum(pca.explained_variance_ratio_))\r\n",
    "# plt.xlabel('Number of Components')\r\n",
    "# plt.ylabel('Variance (%)')\r\n",
    "# plt.show()"
   ]
  },
  {
   "cell_type": "code",
   "execution_count": 239,
   "metadata": {},
   "outputs": [
    {
     "data": {
      "text/plain": [
       "GridSearchCV(cv=5, estimator=KNeighborsClassifier(), n_jobs=-1,\n",
       "             param_grid={'metric': ['euclidean', 'manhattan'],\n",
       "                         'n_neighbors': [3, 5, 7, 9, 11, 15, 17, 40],\n",
       "                         'weights': ['uniform', 'distance']})"
      ]
     },
     "execution_count": 239,
     "metadata": {},
     "output_type": "execute_result"
    }
   ],
   "source": [
    "grid_params = {\r\n",
    "    'n_neighbors': [3, 5, 7, 9, 11, 15, 17, 40],\r\n",
    "    'weights': ['uniform', 'distance'],\r\n",
    "    'metric': ['euclidean', 'manhattan']\r\n",
    "}\r\n",
    "\r\n",
    "model = GridSearchCV(KNeighborsClassifier(), grid_params, cv=5, n_jobs=-1)\r\n",
    "model.fit(X_train, y_train)"
   ]
  },
  {
   "cell_type": "code",
   "execution_count": 240,
   "metadata": {},
   "outputs": [
    {
     "data": {
      "text/plain": [
       "0.8742857142857143"
      ]
     },
     "execution_count": 240,
     "metadata": {},
     "output_type": "execute_result"
    }
   ],
   "source": [
    "y_predict = model.predict(X_test)\r\n",
    "acc = accuracy_score(y_test, y_predict)\r\n",
    "acc"
   ]
  },
  {
   "cell_type": "code",
   "execution_count": 241,
   "metadata": {},
   "outputs": [
    {
     "name": "stderr",
     "output_type": "stream",
     "text": [
      "C:\\Users\\Hieu\\anaconda3\\envs\\covid\\lib\\site-packages\\sklearn\\metrics\\_ranking.py:949: UndefinedMetricWarning: No positive samples in y_true, true positive value should be meaningless\n",
      "  warnings.warn(\"No positive samples in y_true, \"\n"
     ]
    },
    {
     "data": {
      "text/plain": [
       "nan"
      ]
     },
     "execution_count": 241,
     "metadata": {},
     "output_type": "execute_result"
    }
   ],
   "source": [
    "fpr, tpr, threshold = roc_curve(y_test, y_predict)\r\n",
    "roc_auc = auc(fpr, tpr)\r\n",
    "roc_auc\r\n"
   ]
  },
  {
   "cell_type": "code",
   "execution_count": null,
   "metadata": {},
   "outputs": [],
   "source": []
  },
  {
   "cell_type": "code",
   "execution_count": 242,
   "metadata": {},
   "outputs": [],
   "source": [
    "# from sklearn.metrics import roc_auc_score\r\n",
    "# roc_auc_score(y_test, model.predict_proba(X_test)[:, 1])"
   ]
  }
 ],
 "metadata": {
  "interpreter": {
   "hash": "dac906bad3cd3f28ab8a8be6a98440f394e886bf762d5697629f8e4089794e4b"
  },
  "kernelspec": {
   "display_name": "Python 3.8.0 64-bit ('covid': conda)",
   "name": "python3"
  },
  "language_info": {
   "codemirror_mode": {
    "name": "ipython",
    "version": 3
   },
   "file_extension": ".py",
   "mimetype": "text/x-python",
   "name": "python",
   "nbconvert_exporter": "python",
   "pygments_lexer": "ipython3",
   "version": "3.8.0"
  },
  "orig_nbformat": 4
 },
 "nbformat": 4,
 "nbformat_minor": 2
}