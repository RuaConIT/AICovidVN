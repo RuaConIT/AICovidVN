{
 "cells": [
  {
   "cell_type": "code",
   "execution_count": 1,
   "source": [
    "from src.utils import load_dataset, get_path\r\n",
    "from src.adapter import adapt_to_dataset\r\n",
    "import numpy as np\r\n",
    "import pandas as pd\r\n",
    "from sklearn.model_selection import train_test_split, GridSearchCV\r\n",
    "from sklearn.neighbors import KNeighborsClassifier\r\n",
    "from sklearn.metrics import accuracy_score\r\n",
    "from sklearn.metrics import roc_curve\r\n",
    "from sklearn.metrics import auc\r\n",
    "import xgboost as xgb\r\n",
    "import collections\r\n",
    "from sklearn import metrics\r\n",
    "from sklearn.metrics import roc_auc_score\r\n",
    "from sklearn.ensemble import RandomForestClassifier\r\n",
    "from sklearn.model_selection import RandomizedSearchCV\r\n",
    "from sklearn.ensemble import AdaBoostClassifier\r\n",
    "from sklearn.model_selection import KFold\r\n",
    "from xgboost import XGBClassifier\r\n",
    "from sklearn.model_selection import GridSearchCV\r\n",
    "from sklearn.model_selection import KFold, GridSearchCV\r\n",
    "import warnings\r\n",
    "warnings.filterwarnings('ignore')\r\n",
    "\r\n"
   ],
   "outputs": [],
   "metadata": {}
  },
  {
   "cell_type": "code",
   "execution_count": 2,
   "source": [
    "data_train_exaction = load_dataset(get_path('data', 'npy', 'audio_data_train.npy'))\r\n",
    "data_test_exaction = load_dataset(get_path('data', 'npy', 'audio_data_test.npy'))"
   ],
   "outputs": [],
   "metadata": {}
  },
  {
   "cell_type": "code",
   "execution_count": 3,
   "source": [
    "data_train = pd.read_csv('data/metadata_train_challenge.csv')\r\n",
    "data_test = pd.read_csv('data/metadata_private_test.csv')\r\n",
    "data_train = adapt_to_dataset(data_train, data_train_exaction)\r\n",
    "data_test = adapt_to_dataset(data_test, data_test_exaction)"
   ],
   "outputs": [],
   "metadata": {}
  },
  {
   "cell_type": "code",
   "execution_count": 4,
   "source": [
    "def parse_audio(x):\r\n",
    "    return x.flatten('F')[:x.shape[0]] \r\n",
    "    \r\n",
    "X_train = [i.audio_data.features.allfeat for i in data_train.samples]\r\n",
    "X_train = [parse_audio(x) for x in X_train]\r\n",
    "y_train = [i.assessment_result for i in data_train.samples]\r\n",
    "\r\n",
    "X_test = [i.audio_data.features.allfeat for i in data_test.samples]\r\n",
    "X_test = [parse_audio(x) for x in X_test]\r\n",
    "y_test = [i.assessment_result for i in data_test.samples]\r\n"
   ],
   "outputs": [],
   "metadata": {}
  },
  {
   "cell_type": "code",
   "execution_count": 5,
   "source": [
    "# X_train, X_test, y_train, y_test = train_test_split(X_train, y_train, test_size=0.2)"
   ],
   "outputs": [],
   "metadata": {}
  },
  {
   "cell_type": "code",
   "execution_count": 6,
   "source": [
    "# IMBALANCE DATA PROCESSING \r\n",
    "\r\n",
    "print('Before process: ', collections.Counter(y_train))\r\n",
    "\r\n",
    "from imblearn.over_sampling import SMOTE\r\n",
    "sm = SMOTE(random_state = 2)\r\n",
    "X_train_res, y_train_res = sm.fit_resample(X_train, y_train)\r\n",
    "\r\n",
    "print('After process: ', collections.Counter(y_train_res))\r\n"
   ],
   "outputs": [
    {
     "output_type": "stream",
     "name": "stdout",
     "text": [
      "Before process:  Counter({0: 737, 1: 462})\n",
      "After process:  Counter({0: 737, 1: 737})\n"
     ]
    }
   ],
   "metadata": {}
  },
  {
   "cell_type": "code",
   "execution_count": 7,
   "source": [
    "# KNN MODEL\r\n",
    "X_train_res, y_train_res = np.array(X_train_res), np.array(y_train_res)\r\n",
    "grid_params = {\r\n",
    "    'n_neighbors': [3, 5, 7, 9, 11, 15, 17, 40],\r\n",
    "    'weights': ['uniform', 'distance'],\r\n",
    "    'metric': ['euclidean', 'manhattan']\r\n",
    "}\r\n",
    "\r\n",
    "model = GridSearchCV(KNeighborsClassifier(), grid_params, cv=5, n_jobs=-1)\r\n",
    "model.fit(X_train_res, y_train_res)"
   ],
   "outputs": [
    {
     "output_type": "execute_result",
     "data": {
      "text/plain": [
       "GridSearchCV(cv=5, estimator=KNeighborsClassifier(), n_jobs=-1,\n",
       "             param_grid={'metric': ['euclidean', 'manhattan'],\n",
       "                         'n_neighbors': [3, 5, 7, 9, 11, 15, 17, 40],\n",
       "                         'weights': ['uniform', 'distance']})"
      ]
     },
     "metadata": {},
     "execution_count": 7
    }
   ],
   "metadata": {}
  },
  {
   "cell_type": "code",
   "execution_count": 8,
   "source": [
    "# import joblib\r\n",
    "# joblib.dump(model, 'models/knn_model.pkl')\r\n",
    "\r\n",
    "# predict = joblib.load('knn_model.pkl', mmap_mode='r')\r\n",
    "# y_predict = predict.predict(X_test)\r\n",
    "# y_predict"
   ],
   "outputs": [],
   "metadata": {}
  },
  {
   "cell_type": "code",
   "execution_count": 9,
   "source": [
    "y_predict = model.predict(X_test)\r\n",
    "# auc_c = roc_auc_score(y_test,model.predict_proba(X_test)[:, 1])\r\n",
    "# print(\"KNN Model - ROC AUC:\",auc_c)\r\n",
    "# print(\"KNN Model - Accuracy:\",metrics.accuracy_score(y_test, y_predict))"
   ],
   "outputs": [],
   "metadata": {}
  },
  {
   "cell_type": "code",
   "execution_count": null,
   "source": [],
   "outputs": [],
   "metadata": {}
  },
  {
   "cell_type": "code",
   "execution_count": 10,
   "source": [
    "# # XGBoosting\r\n",
    "# from xgboost import XGBClassifier\r\n",
    "# from sklearn.model_selection import StratifiedKFold\r\n",
    "# X_train_res, y_train_res = np.array(X_train_res), np.array(y_train_res)\r\n",
    "# seed = 4\r\n",
    "# params_grid = {\r\n",
    "# 'n_estimators': [int(x) for x in np.linspace(start = 200, stop = 2000, num = 10)],\r\n",
    "# 'learning_rate': [0.01, 0.1, 0.3],\r\n",
    "# 'colsample_bytree': [0.3, 0.5],\r\n",
    "# }\r\n",
    "\r\n",
    "# params_fixed = {\r\n",
    "#     'objective':'binary:logistic',\r\n",
    "#     'eval_metric':'auc'\r\n",
    "# }\r\n",
    "\r\n",
    "\r\n",
    "# n_folds = 5\r\n",
    "# skf = StratifiedKFold(n_splits=n_folds,random_state=seed,shuffle=True)\r\n",
    "\r\n",
    "# # create xgboost classifier\r\n",
    "# xgb = XGBClassifier(**params_fixed, seed=seed)\r\n",
    "\r\n",
    "# grid_search = GridSearchCV(estimator=xgb, param_grid=params_grid, \r\n",
    "#                                cv=skf.split(X_train_res, y_train_res), scoring='balanced_accuracy')\r\n",
    "# grid_search.fit(X_train_res,y_train_res)\r\n",
    "# grid_search.best_score_, grid_search.best_params_"
   ],
   "outputs": [],
   "metadata": {}
  },
  {
   "cell_type": "code",
   "execution_count": 11,
   "source": [
    "# model = XGBClassifier(colsample_bytree = 0.3, learning_rate = 0.1, n_estimators = 1600)\r\n",
    "# model.fit(X_train_res,y_train_res)"
   ],
   "outputs": [],
   "metadata": {}
  },
  {
   "cell_type": "code",
   "execution_count": 12,
   "source": [
    "# y_predict = model.predict(np.array(X_test))\r\n",
    "# auc_c = roc_auc_score(y_test,model.predict_proba(X_test)[:, 1])\r\n",
    "# print(\"XGBoosting Model - ROC AUC:\",auc_c)\r\n",
    "# print(\"XGBoosting Model - Accuracy:\",metrics.accuracy_score(y_test, y_predict))"
   ],
   "outputs": [],
   "metadata": {}
  },
  {
   "cell_type": "code",
   "execution_count": 13,
   "source": [
    "# ## Random Forest \r\n",
    "\r\n",
    "# n_estimators = [int(x) for x in np.linspace(start = 200, stop = 2000, num = 10)]\r\n",
    "# max_features = ['auto', 'sqrt']\r\n",
    "# max_depth = [int(x) for x in np.linspace(10, 110, num = 11)]\r\n",
    "# max_depth.append(None)\r\n",
    "# min_samples_split = [2, 5, 10]\r\n",
    "# min_samples_leaf = [1, 2, 4]\r\n",
    "# bootstrap = [True, False]\r\n",
    "# random_grid = {'n_estimators': n_estimators,\r\n",
    "#                'max_features': max_features,\r\n",
    "#                'max_depth': max_depth,\r\n",
    "#                'min_samples_split': min_samples_split,\r\n",
    "#                'min_samples_leaf': min_samples_leaf,\r\n",
    "#                'bootstrap': bootstrap}\r\n",
    "# print(random_grid)\r\n",
    "\r\n",
    "# rf = RandomForestClassifier()\r\n",
    "# rf_random = RandomizedSearchCV(estimator = rf, param_distributions = random_grid, n_iter = 100, cv = 3, verbose=2, random_state=42, n_jobs = -1)\r\n",
    "# rf_random.fit(X_train_res, y_train_res)"
   ],
   "outputs": [],
   "metadata": {}
  },
  {
   "cell_type": "code",
   "execution_count": 14,
   "source": [
    "# rf_random.best_params_"
   ],
   "outputs": [],
   "metadata": {}
  },
  {
   "cell_type": "code",
   "execution_count": 15,
   "source": [
    "# model = RandomForestClassifier(n_estimators = 1400, min_samples_split = 2, min_samples_leaf = 1, max_features = 'auto', max_depth = 100, bootstrap = True)\r\n",
    "# model.fit(X_train_res, y_train_res)"
   ],
   "outputs": [],
   "metadata": {}
  },
  {
   "cell_type": "code",
   "execution_count": 16,
   "source": [
    "# y_predict = model.predict(X_test)\r\n",
    "# auc_c = roc_auc_score(y_test,model.predict_proba(X_test)[:, 1])\r\n",
    "# print(\"RandomForest Model - ROC AUC:\",auc_c)\r\n",
    "# print(\"RandomForest Model - Accuracy:\",metrics.accuracy_score(y_test, y_predict))"
   ],
   "outputs": [],
   "metadata": {}
  },
  {
   "cell_type": "code",
   "execution_count": 17,
   "source": [
    "# # AdaBoosting\r\n",
    "\r\n",
    "# crossvalidation=KFold(n_splits=10,shuffle=True,random_state=1)\r\n",
    "# search_grid={'n_estimators':[int(x) for x in np.linspace(start = 200, stop = 2000, num = 10)],'learning_rate':[0.01, 0.05, 0.1, 1]}\r\n",
    "# ada_model = AdaBoostClassifier()\r\n",
    "# grid_search=GridSearchCV(estimator=ada_model,param_grid=search_grid,scoring='roc_auc',n_jobs=1,cv=crossvalidation)\r\n",
    "# grid_search.fit(X_train_res,y_train_res)\r\n",
    "\r\n"
   ],
   "outputs": [],
   "metadata": {}
  },
  {
   "cell_type": "code",
   "execution_count": 18,
   "source": [
    "# grid_search.best_params_, grid_search.best_score_"
   ],
   "outputs": [],
   "metadata": {}
  },
  {
   "cell_type": "code",
   "execution_count": 19,
   "source": [
    "# model = AdaBoostClassifier(learning_rate = 0.05, n_estimators = 600)\r\n",
    "# model.fit(X_train_res, y_train_res)"
   ],
   "outputs": [],
   "metadata": {}
  },
  {
   "cell_type": "code",
   "execution_count": 20,
   "source": [
    "# y_predict = model.predict(X_test)\r\n",
    "# auc_c = roc_auc_score(y_test,model.predict_proba(X_test)[:, 1])\r\n",
    "# print(\"AdaBoost Model - ROC AUC:\",auc_c)\r\n",
    "# print(\"AdaBoost Model - Accuracy:\",metrics.accuracy_score(y_test, y_predict))"
   ],
   "outputs": [],
   "metadata": {}
  },
  {
   "cell_type": "code",
   "execution_count": 21,
   "source": [
    "###### --------------------------- WRITE\r\n",
    "###### --------------------------- SUBMIT - FILE\r\n",
    "resutl = pd.read_csv('data/private_test_sample_submissions.csv')\r\n",
    "resutl['assessment_result'] = y_predict\r\n",
    "resutl.to_csv('results.csv', index = False)"
   ],
   "outputs": [],
   "metadata": {}
  }
 ],
 "metadata": {
  "interpreter": {
   "hash": "dac906bad3cd3f28ab8a8be6a98440f394e886bf762d5697629f8e4089794e4b"
  },
  "kernelspec": {
   "name": "python3",
   "display_name": "Python 3.8.0 64-bit ('covid': conda)"
  },
  "language_info": {
   "codemirror_mode": {
    "name": "ipython",
    "version": 3
   },
   "file_extension": ".py",
   "mimetype": "text/x-python",
   "name": "python",
   "nbconvert_exporter": "python",
   "pygments_lexer": "ipython3",
   "version": "3.8.0"
  },
  "orig_nbformat": 4
 },
 "nbformat": 4,
 "nbformat_minor": 2
}